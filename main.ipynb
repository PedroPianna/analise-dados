{
 "cells": [
  {
   "cell_type": "markdown",
   "metadata": {},
   "source": [
    "## Trabalho de programação: Análise de Dados da Prouni\n",
    "### Grupo: Azzure, Luiz, Carol e Pedro\n",
    "### Análises a serem feitas:\n",
    "\n",
    "\n",
    "Faça uma classificação dos dados utilizando os atributos sexo, raça,\n",
    "idade e região e descreva o perfil observado dos maiores\n",
    "recebedores de bolsa e plote um gráfico.\n",
    "\n",
    "\n",
    "Classifique a modalidade de ensino de bolsa, tipo de bolsa e a média\n",
    "de idade e plote em gráfico.\n",
    "\n"
   ]
  },
  {
   "cell_type": "markdown",
   "metadata": {},
   "source": [
    "## Carol\n",
    "\n",
    "Ranqueie os 5 cursos mais financiados, assim como as 5 instituições\n",
    "que mais receberam bolsas e plote um gráfico.\n",
    "\n",
    "Plote um gráfico das 5 cidades do Espirito Santo que mais ganharam\n",
    "bolsas."
   ]
  },
  {
   "cell_type": "markdown",
   "metadata": {},
   "source": [
    "## Azzure \n",
    " Classifique os indivíduos do sexo feminino, masculino, turno do curso\n",
    "juntamente com a modalidade de ensino, plote um gráfico."
   ]
  },
  {
   "cell_type": "markdown",
   "metadata": {},
   "source": [
    "### Essa caixinha de texto pode ser usada para nossos comentários galera\n",
    "Vamos utilizar as bibliotecas pandas e matplotlib\n",
    "\n",
    "Recomendo usar o VSCode. Precisa instalar a extensão do jupyter notebook.\n",
    "\n",
    "A gente precisa instalar primeiro, então é só executar esse comando no terminal: `pip3 install -r requirements.txt`\n",
    "\n",
    "Aqui estão os links da documentação para referêcia: https://pandas.pydata.org/docs/reference/frame.html"
   ]
  },
  {
   "cell_type": "code",
   "execution_count": null,
   "metadata": {},
   "outputs": [],
   "source": [
    "import warnings\n",
    "warnings.filterwarnings('ignore')\n",
    "import pandas as pd\n",
    "import matplotlib.pyplot as plt\n",
    "import helper\n",
    "# Ler o nosso dataset \n",
    "df = pd.read_csv(\"prouni_2016_2019.csv\")\n",
    "# remover colunas \n",
    "df = df.drop([\"BENEFICIARIO_DEFICIENTE_FISICO\", \"DT_NASCIMENTO_BENEFICIARIO\", \"CPF_BENEFICIARIO_BOLSA\", \"CODIGO_EMEC_IES_BOLSA\"], axis=1)\n",
    "df = df.sample(10000)"
   ]
  },
  {
   "cell_type": "code",
   "execution_count": null,
   "metadata": {},
   "outputs": [],
   "source": [
    "# Usar o método .info() do dataset para pegar algumas informações: da pra ver que tem 16 atributos e 942485 entradas não nulas\n",
    "df.info()"
   ]
  },
  {
   "cell_type": "code",
   "execution_count": null,
   "metadata": {},
   "outputs": [],
   "source": [
    "df[\"TIPO_BOLSA\"]"
   ]
  },
  {
   "cell_type": "code",
   "execution_count": null,
   "metadata": {},
   "outputs": [],
   "source": [
    "# Pegar a coluna idade e tirar a sua média\n",
    "idade = df[\"idade\"]\n",
    "sexo = df[\"SEXO_BENEFICIARIO_BOLSA\"]\n",
    "etnia = df[\"RACA_BENEFICIARIO_BOLSA\"]\n",
    "regiao = df[\"REGIAO_BENEFICIARIO_BOLSA\"]\n",
    "municipio = df[\"MUNICIPIO_BENEFICIARIO_BOLSA\"]\n",
    "tipo_bolsa = df[\"TIPO_BOLSA\"]\n",
    "cursos = df[\"NOME_CURSO_BOLSA\"]"
   ]
  },
  {
   "cell_type": "code",
   "execution_count": null,
   "metadata": {},
   "outputs": [],
   "source": [
    "\n",
    "variavel = cursos.unique()\n",
    "total = cursos.count()\n",
    "observacoes = []\n",
    "for num, tipo in enumerate(variavel):\n",
    "    observacoes.append(cursos.value_counts()[tipo])\n"
   ]
  },
  {
   "cell_type": "code",
   "execution_count": null,
   "metadata": {},
   "outputs": [],
   "source": [
    "tabela_carol = pd.DataFrame({\"curso\": variavel, \"quantidades\": observacoes})"
   ]
  },
  {
   "cell_type": "code",
   "execution_count": null,
   "metadata": {},
   "outputs": [],
   "source": [
    "tabela_carol = tabela_carol.sort_values(\"quantidades\", ascending= False)"
   ]
  },
  {
   "cell_type": "code",
   "execution_count": null,
   "metadata": {},
   "outputs": [],
   "source": [
    "tabela_carol.loc[tabela_carol['curso'].str.contains('Medicina')]"
   ]
  },
  {
   "cell_type": "code",
   "execution_count": null,
   "metadata": {},
   "outputs": [],
   "source": []
  },
  {
   "cell_type": "code",
   "execution_count": null,
   "metadata": {},
   "outputs": [],
   "source": [
    "fig, ax = helper.grafico_barras(tabela_carol, \"Número de bolsas por sexo\")"
   ]
  },
  {
   "cell_type": "code",
   "execution_count": null,
   "metadata": {},
   "outputs": [],
   "source": [
    "fig, ax = helper.histograma(idade, 15, \"bolsistas por idade\")"
   ]
  },
  {
   "cell_type": "code",
   "execution_count": null,
   "metadata": {},
   "outputs": [],
   "source": [
    "fig, ax = helper.grafico_barras(sexo, \"Número de bolsas por sexo\")"
   ]
  },
  {
   "cell_type": "code",
   "execution_count": null,
   "metadata": {},
   "outputs": [],
   "source": [
    "fig, ax = helper.grafico_barras_proporcao(tipo_bolsa, \"Proporção por tipos de bolsa\")"
   ]
  },
  {
   "cell_type": "code",
   "execution_count": null,
   "metadata": {},
   "outputs": [],
   "source": [
    "fig, ax = helper.grafico_setores_proporcao(tipo_bolsa, \"Proporção por tipos de bolsa\")"
   ]
  },
  {
   "cell_type": "code",
   "execution_count": null,
   "metadata": {},
   "outputs": [],
   "source": []
  }
 ],
 "metadata": {
  "kernelspec": {
   "display_name": "Python 3",
   "language": "python",
   "name": "python3"
  },
  "language_info": {
   "codemirror_mode": {
    "name": "ipython",
    "version": 3
   },
   "file_extension": ".py",
   "mimetype": "text/x-python",
   "name": "python",
   "nbconvert_exporter": "python",
   "pygments_lexer": "ipython3",
   "version": "3.10.1"
  }
 },
 "nbformat": 4,
 "nbformat_minor": 2
}
