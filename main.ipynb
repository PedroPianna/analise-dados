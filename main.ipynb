{
 "cells": [
  {
   "cell_type": "markdown",
   "metadata": {},
   "source": [
    "## Trabalho de programação: Análise de Dados da Prouni\n",
    "### Grupo: Azzure, Luiz, Carol e Pedro\n",
    "### Análises a serem feitas:\n",
    "Faça uma classificação dos dados utilizando os atributos sexo, raça,\n",
    "idade e região e descreva o perfil observado dos maiores\n",
    "recebedores de bolsa e plote um gráfico.\n",
    "\n",
    "Ranqueie os 5 cursos mais financiados, assim como as 5 instituições\n",
    "que mais receberam bolsas e plote um gráfico.\n",
    "Classifique a modalidade de ensino de bolsa, tipo de bolsa e a média\n",
    "de idade e plote em gráfico.\n",
    "Classifique os indivíduos do sexo feminino, masculino, turno do curso\n",
    "juntamente com a modalidade de ensino, plote um gráfico.\n",
    "Plote um gráfico das 5 cidades do Espirito Santo que mais ganharam\n",
    "bolsas."
   ]
  },
  {
   "cell_type": "markdown",
   "metadata": {},
   "source": [
    "### Essa caixinha de texto pode ser usada para nossos comentários galera\n",
    "Vamos utilizar as bibliotecas pandas e matplotlib\n",
    "\n",
    "Recomendo usar o VSCode. Precisa instalar a extensão do jupyter notebook.\n",
    "\n",
    "A gente precisa instalar primeiro, então é só executar esse comando no terminal: `pip3 install -r requirements.txt`\n",
    "\n",
    "Aqui estão os links da documentação para referêcia: https://pandas.pydata.org/docs/reference/frame.html"
   ]
  },
  {
   "cell_type": "code",
   "execution_count": null,
   "metadata": {},
   "outputs": [],
   "source": [
    "import pandas as pd\n",
    "# Ler o nosso dataset \n",
    "df = pd.read_csv(\"prouni_2016_2019.csv\")"
   ]
  },
  {
   "cell_type": "code",
   "execution_count": null,
   "metadata": {},
   "outputs": [],
   "source": [
    "# Usar o método .info() do dataset para pegar algumas informações: da pra ver que tem 16 atributos e 942485 entradas não nulas\n",
    "df.info()"
   ]
  },
  {
   "cell_type": "code",
   "execution_count": null,
   "metadata": {},
   "outputs": [],
   "source": [
    "df.head()"
   ]
  },
  {
   "cell_type": "code",
   "execution_count": null,
   "metadata": {},
   "outputs": [],
   "source": [
    "# Pegar a coluna idade e tirar a sua média\n",
    "idade = df[\"idade\"]\n",
    "idade.mean()"
   ]
  }
 ],
 "metadata": {
  "kernelspec": {
   "display_name": "Python 3",
   "language": "python",
   "name": "python3"
  },
  "language_info": {
   "codemirror_mode": {
    "name": "ipython",
    "version": 3
   },
   "file_extension": ".py",
   "mimetype": "text/x-python",
   "name": "python",
   "nbconvert_exporter": "python",
   "pygments_lexer": "ipython3",
   "version": "3.9.6"
  }
 },
 "nbformat": 4,
 "nbformat_minor": 2
}
