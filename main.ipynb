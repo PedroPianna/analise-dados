{
 "cells": [
  {
   "cell_type": "markdown",
   "metadata": {},
   "source": [
    "## Trabalho de programação: Análise de Dados da Prouni\n",
    "### Grupo: Azzure, Carol e Pedro\n",
    "### Análises a serem feitas:"
   ]
  },
  {
   "cell_type": "markdown",
   "metadata": {},
   "source": [
    "## Azzure \n",
    " Classifique os indivíduos do sexo feminino, masculino, turno do curso\n",
    "juntamente com a modalidade de ensino, plote um gráfico."
   ]
  },
  {
   "cell_type": "markdown",
   "metadata": {},
   "source": [
    "## Carol\n",
    "\n",
    "Ranqueie os 5 cursos mais financiados, assim como as 5 instituições\n",
    "que mais receberam bolsas e plote um gráfico.\n",
    "\n",
    "Plote um gráfico das 5 cidades do Espirito Santo que mais ganharam\n",
    "bolsas."
   ]
  },
  {
   "cell_type": "markdown",
   "metadata": {},
   "source": [
    "# Metodologia\n",
    "Iremos utilizar as bibliotecas pandas e matplotlib, além de um arquivo helper.py que possui funções auxiliares, que fazem uso de pandas e matplotlib\n",
    "\n",
    "O projeto foi desenvolvido utilizando a plataforma interativa Jupyter Notebook, que permite a interação em tempo real com código python, objetos Pandas e plots do Matplotlib\n",
    "\n",
    "Aqui estão os links da documentação para referêcia: https://pandas.pydata.org/docs/reference/frame.html"
   ]
  },
  {
   "cell_type": "code",
   "execution_count": null,
   "metadata": {},
   "outputs": [],
   "source": [
    "import warnings\n",
    "warnings.filterwarnings('ignore')\n",
    "import pandas as pd\n",
    "import matplotlib.pyplot as plt\n",
    "import helper"
   ]
  },
  {
   "cell_type": "code",
   "execution_count": null,
   "metadata": {},
   "outputs": [],
   "source": [
    "plt.style.use('Solarize_Light2')\n",
    "# plt.style.available"
   ]
  },
  {
   "cell_type": "code",
   "execution_count": null,
   "metadata": {},
   "outputs": [],
   "source": [
    "# Carregar o dataset\n",
    "n = 10000\n",
    "df= helper.ler_dataset(\"prouni_2016_2019.csv\", [\"BENEFICIARIO_DEFICIENTE_FISICO\", \"DT_NASCIMENTO_BENEFICIARIO\", \"CPF_BENEFICIARIO_BOLSA\", \"CODIGO_EMEC_IES_BOLSA\"], n)"
   ]
  },
  {
   "cell_type": "code",
   "execution_count": null,
   "metadata": {},
   "outputs": [],
   "source": [
    "# Usar o método .info() para obter um resumo dos dados\n",
    "df.info()"
   ]
  },
  {
   "cell_type": "code",
   "execution_count": null,
   "metadata": {},
   "outputs": [],
   "source": [
    "sexo = df[\"SEXO_BENEFICIARIO_BOLSA\"]\n",
    "etnia = df[\"RACA_BENEFICIARIO_BOLSA\"]\n",
    "regiao = df[\"REGIAO_BENEFICIARIO_BOLSA\"]\n",
    "municipio = df[\"MUNICIPIO_BENEFICIARIO_BOLSA\"]\n",
    "tipo_bolsa = df[\"TIPO_BOLSA\"]\n",
    "idade = df[\"idade\"]\n",
    "cursos = df[\"NOME_CURSO_BOLSA\"]\n",
    "modalidade_ensino = df[\"MODALIDADE_ENSINO_BOLSA\"]"
   ]
  },
  {
   "cell_type": "code",
   "execution_count": null,
   "metadata": {},
   "outputs": [],
   "source": [
    "fig, ax = helper.grafico_barras(sexo, \"Número de bolsas por sexo\")"
   ]
  },
  {
   "cell_type": "code",
   "execution_count": null,
   "metadata": {},
   "outputs": [],
   "source": [
    "fig, ax = helper.grafico_barras_proporcao(tipo_bolsa, \"Proporção por tipos de bolsa\")"
   ]
  },
  {
   "cell_type": "markdown",
   "metadata": {},
   "source": [
    "## Pedro\n",
    "Faça uma classificação dos dados utilizando os atributos sexo, raça,\n",
    "idade e região e descreva o perfil observado dos maiores\n",
    "recebedores de bolsa e plote um gráfico.\n",
    "\n",
    "\n",
    "Classifique a modalidade de ensino de bolsa, tipo de bolsa e a média\n",
    "de idade e plote em gráfico."
   ]
  },
  {
   "cell_type": "code",
   "execution_count": null,
   "metadata": {},
   "outputs": [],
   "source": [
    "# Para a modalidade de ensino de bolsa, podemos inicialmente plotar um gráfico de setores \n",
    "modalidade_ensino = helper.coluna_qualitativa_para_quantitativo(modalidade_ensino)\n",
    "modalidade_ensino = helper.filtrar_coluna(modalidade_ensino)\n",
    "fig, ax = helper.grafico_setores(modalidade_ensino, \"Proporção de bolsas por modalidade de ensino\")"
   ]
  },
  {
   "cell_type": "code",
   "execution_count": null,
   "metadata": {},
   "outputs": [],
   "source": [
    "# Para o tipo de bolsa, podemos inicialmente plotar um gráfico de setores \n",
    "tipo_bolsa = helper.coluna_qualitativa_para_quantitativo(tipo_bolsa)\n",
    "tipo_bolsa = helper.filtrar_coluna(tipo_bolsa, 10)\n",
    "fig, ax = helper.grafico_setores(tipo_bolsa, \"Proporção de bolsas por modalidade de ensino\")"
   ]
  },
  {
   "cell_type": "code",
   "execution_count": null,
   "metadata": {},
   "outputs": [],
   "source": [
    "# Para a análise da idade, é útil plotar um histograma\n",
    "fig, ax = helper.histograma(idade, 100, \"Bolsistas por idade\")\n",
    "# Aqui, plotamos dois histogramas: o primeiro com o número total de bolsistas e o segundo com a densidade de bolsistas por idade"
   ]
  },
  {
   "cell_type": "markdown",
   "metadata": {},
   "source": [
    "#### A partir dos 3 gráficos, percebemos que mais de três quartos dos alunos que desfrutam de bolsa recebem suporte presencial, e não EAD. Além disso, fica claro que a maior parte dos bolsistas recebem auxílio integral, enquanto aproximadamente 30% recebem bolsa parcial de 50%. \n",
    "#### Finalmente, ao analisar a faixa etária dos bolsistas, é possível perceber que eles possuem uma amplitude elevada (variam de 18 até 71 anos), mas, ao mesmo tempo, se concentram em jovens e adultos de até 29 anos (75% dos estudantes estudados estão nessa faixa etária). A idade esperada de um estudante é de aproximadamente 27 anos"
   ]
  }
 ],
 "metadata": {
  "kernelspec": {
   "display_name": "Python 3",
   "language": "python",
   "name": "python3"
  },
  "language_info": {
   "codemirror_mode": {
    "name": "ipython",
    "version": 3
   },
   "file_extension": ".py",
   "mimetype": "text/x-python",
   "name": "python",
   "nbconvert_exporter": "python",
   "pygments_lexer": "ipython3",
   "version": "3.9.6"
  }
 },
 "nbformat": 4,
 "nbformat_minor": 2
}
