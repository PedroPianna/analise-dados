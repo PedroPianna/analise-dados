{
 "cells": [
  {
   "cell_type": "markdown",
   "metadata": {},
   "source": [
    "## Trabalho de programação: Análise de Dados da Prouni\n",
    "### Grupo: Azzure, Carol e Pedro\n",
    "### Análises a serem feitas:"
   ]
  },
  {
   "cell_type": "markdown",
   "metadata": {},
   "source": [
    "## Azzure \n",
    " Classifique os indivíduos do sexo feminino, masculino, turno do curso\n",
    "juntamente com a modalidade de ensino, plote um gráfico."
   ]
  },
  {
   "cell_type": "markdown",
   "metadata": {},
   "source": [
    "## Carol\n",
    "\n",
    "Ranqueie os 5 cursos mais financiados, assim como as 5 instituições\n",
    "que mais receberam bolsas e plote um gráfico.\n",
    "\n",
    "Plote um gráfico das 5 cidades do Espirito Santo que mais ganharam\n",
    "bolsas."
   ]
  },
  {
   "cell_type": "markdown",
   "metadata": {},
   "source": [
    "## Pedro\n",
    "Faça uma classificação dos dados utilizando os atributos sexo, raça,\n",
    "idade e região e descreva o perfil observado dos maiores\n",
    "recebedores de bolsa e plote um gráfico.\n",
    "\n",
    "\n",
    "Classifique a modalidade de ensino de bolsa, tipo de bolsa e a média\n",
    "de idade e plote em gráfico."
   ]
  },
  {
   "cell_type": "markdown",
   "metadata": {},
   "source": [
    "# Metodologia\n",
    "Iremos utilizar as bibliotecas pandas e matplotlib, além de um arquivo helper.py que possui funções auxiliares, que fazem uso de pandas e matplotlib\n",
    "\n",
    "O projeto foi desenvolvido utilizando a plataforma interativa Jupyter Notebook, que permite a interação em tempo real com código python, objetos Pandas e plots do Matplotlib\n",
    "\n",
    "Aqui estão os links da documentação para referêcia: https://pandas.pydata.org/docs/reference/frame.html"
   ]
  },
  {
   "cell_type": "code",
   "execution_count": null,
   "metadata": {},
   "outputs": [],
   "source": [
    "import warnings\n",
    "warnings.filterwarnings('ignore')\n",
    "import pandas as pd\n",
    "import matplotlib.pyplot as plt\n",
    "import helper"
   ]
  },
  {
   "cell_type": "code",
   "execution_count": null,
   "metadata": {},
   "outputs": [],
   "source": [
    "# Carregar o dataset\n",
    "n = 10000\n",
    "df= helper.ler_dataset(\"prouni_2016_2019.csv\", [\"BENEFICIARIO_DEFICIENTE_FISICO\", \"DT_NASCIMENTO_BENEFICIARIO\", \"CPF_BENEFICIARIO_BOLSA\", \"CODIGO_EMEC_IES_BOLSA\"], n)"
   ]
  },
  {
   "cell_type": "code",
   "execution_count": null,
   "metadata": {},
   "outputs": [],
   "source": [
    "# Usar o método .info() para obter um resumo dos dados\n",
    "df.info()"
   ]
  },
  {
   "cell_type": "code",
   "execution_count": null,
   "metadata": {},
   "outputs": [],
   "source": [
    "sexo = df[\"SEXO_BENEFICIARIO_BOLSA\"]\n",
    "etnia = df[\"RACA_BENEFICIARIO_BOLSA\"]\n",
    "regiao = df[\"REGIAO_BENEFICIARIO_BOLSA\"]\n",
    "municipio = df[\"MUNICIPIO_BENEFICIARIO_BOLSA\"]\n",
    "tipo_bolsa = df[\"TIPO_BOLSA\"]\n",
    "idade = df[\"idade\"]\n",
    "cursos = df[\"NOME_CURSO_BOLSA\"]"
   ]
  },
  {
   "cell_type": "code",
   "execution_count": null,
   "metadata": {},
   "outputs": [],
   "source": [
    "regiao = helper.coluna_qualitativa_para_quantitativo(regiao)"
   ]
  },
  {
   "cell_type": "code",
   "execution_count": null,
   "metadata": {},
   "outputs": [],
   "source": [
    "regiao = helper.filtrar_coluna(regiao)"
   ]
  },
  {
   "cell_type": "code",
   "execution_count": null,
   "metadata": {},
   "outputs": [],
   "source": [
    "fig, ax = helper.grafico_setores(regiao, \"Proporção de bolsas por região\")"
   ]
  },
  {
   "cell_type": "code",
   "execution_count": null,
   "metadata": {},
   "outputs": [],
   "source": [
    "fig, ax = helper.histograma(idade, 15, \"bolsistas por idade\")"
   ]
  },
  {
   "cell_type": "code",
   "execution_count": null,
   "metadata": {},
   "outputs": [],
   "source": [
    "fig, ax = helper.grafico_barras(sexo, \"Número de bolsas por sexo\")"
   ]
  },
  {
   "cell_type": "code",
   "execution_count": null,
   "metadata": {},
   "outputs": [],
   "source": [
    "fig, ax = helper.grafico_barras_proporcao(tipo_bolsa, \"Proporção por tipos de bolsa\")"
   ]
  }
 ],
 "metadata": {
  "kernelspec": {
   "display_name": "Python 3",
   "language": "python",
   "name": "python3"
  },
  "language_info": {
   "codemirror_mode": {
    "name": "ipython",
    "version": 3
   },
   "file_extension": ".py",
   "mimetype": "text/x-python",
   "name": "python",
   "nbconvert_exporter": "python",
   "pygments_lexer": "ipython3",
   "version": "3.9.6"
  }
 },
 "nbformat": 4,
 "nbformat_minor": 2
}
